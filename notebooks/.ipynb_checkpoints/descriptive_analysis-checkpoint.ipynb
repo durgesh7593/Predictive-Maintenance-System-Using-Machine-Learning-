{
 "cells": [
  {
   "cell_type": "code",
   "execution_count": null,
   "id": "08f9d8e9-8dc7-4a6b-aa02-294fe6527047",
   "metadata": {},
   "outputs": [],
   "source": [
    "## **Load the cleaned dataset** \n",
    "## **Load the cleaned dataset** 🔃"
   ]
  },
  {
   "cell_type": "code",
   "execution_count": null,
   "id": "bf9a0c4d-e546-42e5-9a85-daa605244fd8",
   "metadata": {},
   "outputs": [],
   "source": [
    "!pip install yellowbrick --quiet"
   ]
  },
  {
   "cell_type": "code",
   "execution_count": null,
   "id": "1c9cf09a-07ba-4ca6-a44a-295828e402f5",
   "metadata": {},
   "outputs": [],
   "source": [
    "import pandas as pd\n",
    "import numpy as np\n",
    "import matplotlib.pyplot as plt\n",
    "import seaborn as sns\n",
    "\n",
    "df = pd.read_csv('cleaned_dataset.csv')"
   ]
  },
  {
   "cell_type": "code",
   "execution_count": null,
   "id": "235ab06d-8aeb-4d35-89a6-647f11b923c7",
   "metadata": {},
   "outputs": [],
   "source": [
    "df.head()"
   ]
  },
  {
   "cell_type": "markdown",
   "id": "566ba20b-aa33-4d6a-8878-855972bfdaff",
   "metadata": {},
   "source": [
    "## **Clustering**"
   ]
  },
  {
   "cell_type": "code",
   "execution_count": null,
   "id": "f6d43ac5-abea-4e50-973e-0e0e3b335406",
   "metadata": {},
   "outputs": [],
   "source": [
    "# features to use for clustering\n",
    "X = df[[\"Air temperature\", \"Process temperature\", \"Rotational speed\", \"Torque\", \"Tool wear\", \"Power\"]]"
   ]
  },
  {
   "cell_type": "markdown",
   "id": "8394911e-5d9a-4024-b2e3-9a2fce789eb6",
   "metadata": {},
   "source": [
    "* Partitional Clustering, **K-means algorithm**"
   ]
  },
  {
   "cell_type": "markdown",
   "id": "67be0cde-5c79-477d-97fd-f3713d4fa8e7",
   "metadata": {},
   "source": [
    "Elbow method to determine the optimal number (k) of clusters"
   ]
  },
  {
   "cell_type": "code",
   "execution_count": null,
   "id": "89b4f483-3587-4c3d-9c49-40c15524ca52",
   "metadata": {},
   "outputs": [],
   "source": [
    "from yellowbrick.cluster import KElbowVisualizer\n",
    "from sklearn.cluster import KMeans\n",
    "\n",
    "#K-means Clustering \n",
    "model = KMeans()\n",
    "\n",
    "visualizer = KElbowVisualizer(model,k = (2,10)) #it turns out to be k = 4 is optimal\n",
    "\n",
    "visualizer.fit(X)\n",
    "visualizer.show()"
   ]
  },
  {
   "cell_type": "code",
   "execution_count": null,
   "id": "53722fd0-69c8-49ae-9b65-88d08aa92565",
   "metadata": {},
   "outputs": [],
   "source": [
    "kmeans = KMeans(init= \"random\",n_clusters = 4, n_init = 10, max_iter = 300,random_state = 42)\n",
    "\n",
    "kmeans.fit(X)\n",
    "df[\"kmeans_cluster\"] = kmeans.predict(X)"
   ]
  },
  {
   "cell_type": "markdown",
   "id": "7136c66a-9c51-4de4-9fac-d8abc236cddd",
   "metadata": {},
   "source": [
    "Plot the results"
   ]
  },
  {
   "cell_type": "code",
   "execution_count": null,
   "id": "5799082d-2678-4d76-a62d-beb2f5fda538",
   "metadata": {},
   "outputs": [],
   "source": [
    "plt.figure(figsize=(10, 8))\n",
    "\n",
    "# create a pairplot of the data, colored by cluster label\n",
    "sns.pairplot(df.sample(frac=0.05), hue=\"kmeans_cluster\", vars=[\"Air temperature\", \"Process temperature\", \"Rotational speed\", \"Torque\", \"Tool wear\", \"Power\"])\n",
    "plt.show()"
   ]
  },
  {
   "cell_type": "code",
   "execution_count": null,
   "id": "5a16278b-bccb-4891-9e9d-9f2451a0783a",
   "metadata": {},
   "outputs": [],
   "source": [
    "# Silhouette coefficient for k-means algorithm\n",
    "from sklearn.metrics import silhouette_score\n",
    "\n",
    "# calculate the silhouette coefficient\n",
    "score = silhouette_score(X, kmeans.predict(X))\n",
    "\n",
    "print(f\"Silhouette Coefficient: {score:.3f}\")"
   ]
  },
  {
   "cell_type": "markdown",
   "id": "fd08a1de-f4d4-4aad-9bdd-31d00d8f3722",
   "metadata": {},
   "source": [
    "Hierarchical clustering, Agglomerative"
   ]
  },
  {
   "cell_type": "code",
   "execution_count": null,
   "id": "9d8a57eb-38e3-42b4-9fdf-390987fe5b36",
   "metadata": {},
   "outputs": [],
   "source": [
    "import scipy.cluster.hierarchy as shc\n",
    "\n",
    "# plot dendogram\n",
    "plt.figure(figsize=(10, 7))\n",
    "plt.title(\"Predictive Maintenance Dendrogram\")\n",
    "\n",
    "# Selecting Annual Income and Spending Scores by index\n",
    "clusters = shc.linkage(X, method='ward', metric=\"euclidean\")\n",
    "shc.dendrogram(Z=clusters)\n",
    "plt.show()"
   ]
  },
  {
   "cell_type": "code",
   "execution_count": 13,
   "id": "acbc54fe-2fa6-4866-ad10-aef56fb5af74",
   "metadata": {},
   "outputs": [],
   "source": [
    "from sklearn.cluster import AgglomerativeClustering\n",
    "\n",
    "# Hierarchical clustering\n",
    "model = AgglomerativeClustering(n_clusters=3,  linkage='ward')\n",
    "model.fit(X)\n",
    "df[\"hierarchical_cluster\"] = model.labels_"
   ]
  },
  {
   "cell_type": "code",
   "execution_count": 14,
   "id": "768110ec-e624-4f7a-82bf-426bc50dee8a",
   "metadata": {},
   "outputs": [
    {
     "name": "stdout",
     "output_type": "stream",
     "text": [
      "Silhouette Coefficient: 0.180\n"
     ]
    }
   ],
   "source": [
    "# Silhouette coefficient for Agglomerative clustering algorithm\n",
    "from sklearn.metrics import silhouette_score\n",
    "\n",
    "# calculate the silhouette coefficient\n",
    "score = silhouette_score(X, df[\"hierarchical_cluster\"])\n",
    "\n",
    "print(f\"Silhouette Coefficient: {score:.3f}\")"
   ]
  },
  {
   "cell_type": "markdown",
   "id": "be66f07d-90ab-403b-9105-a71aaedfaec2",
   "metadata": {},
   "source": [
    "* Density-based clustering, **DBSACN**"
   ]
  },
  {
   "cell_type": "markdown",
   "id": "af73dc84-1ccc-4106-a957-c68cbfa8c76e",
   "metadata": {},
   "source": [
    "Determining EPS and MinPts for DBSACN algorithm"
   ]
  },
  {
   "cell_type": "code",
   "execution_count": 2,
   "id": "bb084fd2-96cc-44e8-a472-30cf88ada311",
   "metadata": {},
   "outputs": [
    {
     "ename": "NameError",
     "evalue": "name 'X' is not defined",
     "output_type": "error",
     "traceback": [
      "\u001b[1;31m---------------------------------------------------------------------------\u001b[0m",
      "\u001b[1;31mNameError\u001b[0m                                 Traceback (most recent call last)",
      "Cell \u001b[1;32mIn[2], line 8\u001b[0m\n\u001b[0;32m      5\u001b[0m \u001b[38;5;66;03m#Create the nearest Neighbors Model\u001b[39;00m\n\u001b[0;32m      7\u001b[0m nn \u001b[38;5;241m=\u001b[39m NearestNeighbors(n_neighbors \u001b[38;5;241m=\u001b[39m k)\n\u001b[1;32m----> 8\u001b[0m nn\u001b[38;5;241m.\u001b[39mfit(\u001b[43mX\u001b[49m)\n\u001b[0;32m     10\u001b[0m \u001b[38;5;66;03m#get the distances and inces of the kth nearest neighbors\u001b[39;00m\n\u001b[0;32m     11\u001b[0m distances , indices \u001b[38;5;241m=\u001b[39m nn\u001b[38;5;241m.\u001b[39mkneighbors(X)\n",
      "\u001b[1;31mNameError\u001b[0m: name 'X' is not defined"
     ]
    }
   ],
   "source": [
    "from sklearn.neighbors import NearestNeighbors\n",
    "\n",
    "k  = 5\n",
    "\n",
    "#Create the nearest Neighbors Model\n",
    "\n",
    "nn = NearestNeighbors(n_neighbors = k)\n",
    "nn.fit(X)\n",
    "\n",
    "#get the distances and inces of the kth nearest neighbors\n",
    "distances , indices = nn.kneighbors(X)\n",
    "\n",
    "#get the kth nearest distnces forn each point \n",
    "kth_distances_sorted = np.sort(kth_distances)\n",
    "\n",
    "plt.plot(kth_distances_sorted)\n",
    "plt.xlabel('Point Index')\n",
    "plt.ylabel('5th Nearest Neighbor Distance')\n",
    "plt.show()"
   ]
  },
  {
   "cell_type": "code",
   "execution_count": null,
   "id": "ffa2b7cb-3b64-4845-b3a3-7f18a9749c49",
   "metadata": {},
   "outputs": [],
   "source": []
  }
 ],
 "metadata": {
  "kernelspec": {
   "display_name": "Python 3 (ipykernel)",
   "language": "python",
   "name": "python3"
  },
  "language_info": {
   "codemirror_mode": {
    "name": "ipython",
    "version": 3
   },
   "file_extension": ".py",
   "mimetype": "text/x-python",
   "name": "python",
   "nbconvert_exporter": "python",
   "pygments_lexer": "ipython3",
   "version": "3.12.3"
  }
 },
 "nbformat": 4,
 "nbformat_minor": 5
}
